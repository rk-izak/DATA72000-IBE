{
 "cells": [
  {
   "cell_type": "markdown",
   "metadata": {},
   "source": [
    "# Imports and Setup"
   ]
  },
  {
   "cell_type": "code",
   "execution_count": 1,
   "metadata": {},
   "outputs": [
    {
     "name": "stderr",
     "output_type": "stream",
     "text": [
      "/Users/radoslawizak/Desktop/MSc Data Science/Research project/venv/lib/python3.10/site-packages/tqdm/auto.py:21: TqdmWarning: IProgress not found. Please update jupyter and ipywidgets. See https://ipywidgets.readthedocs.io/en/stable/user_install.html\n",
      "  from .autonotebook import tqdm as notebook_tqdm\n",
      "Hardware accelerator e.g. GPU is available in the environment, but no `device` argument is passed to the `Pipeline` object. Model will be on CPU.\n"
     ]
    }
   ],
   "source": [
    "import sys\n",
    "sys.path.append('../../')\n",
    "\n",
    "from utils.utils import evaluate_explanations, evaluate_selection_test, evaluate_assignment_test"
   ]
  },
  {
   "cell_type": "markdown",
   "metadata": {},
   "source": [
    "# Claude 3.5 Sonnet Results"
   ]
  },
  {
   "cell_type": "markdown",
   "metadata": {},
   "source": [
    "### Base Agent - NOT TESTED"
   ]
  },
  {
   "cell_type": "markdown",
   "metadata": {},
   "source": [
    "### EXP Agent - NOT TESTED"
   ]
  },
  {
   "cell_type": "markdown",
   "metadata": {},
   "source": [
    "### COH Agent - NOT TESTED"
   ]
  },
  {
   "cell_type": "markdown",
   "metadata": {},
   "source": [
    "### Base + EXP Agent - NOT TESTED"
   ]
  },
  {
   "cell_type": "markdown",
   "metadata": {},
   "source": [
    "### Base + EXP + COH Agent - NOT TESTED"
   ]
  },
  {
   "cell_type": "markdown",
   "metadata": {},
   "source": [
    "# Claude 3 Haiku Results"
   ]
  },
  {
   "cell_type": "markdown",
   "metadata": {},
   "source": [
    "### Base Agent"
   ]
  },
  {
   "cell_type": "code",
   "execution_count": 2,
   "metadata": {},
   "outputs": [
    {
     "name": "stdout",
     "output_type": "stream",
     "text": [
      "Evaluation complete. Results saved to ../Anthropic/claude3_haiku/base/baseline.json\n"
     ]
    }
   ],
   "source": [
    "evaluate_explanations(ground_truth_file=\"../../data/CIVIC/clean/context/baseline.json\",\n",
    "                      response_file=\"../../outputs/Anthropic/claude3_haiku/base/baseline.json\", \n",
    "                      save_file=\"../Anthropic/claude3_haiku/base/baseline.json\")"
   ]
  },
  {
   "cell_type": "code",
   "execution_count": 3,
   "metadata": {},
   "outputs": [
    {
     "name": "stdout",
     "output_type": "stream",
     "text": [
      "Evaluation complete. Results saved to ../Anthropic/claude3_haiku/base/missing_evidence.json\n"
     ]
    }
   ],
   "source": [
    "evaluate_explanations(ground_truth_file=\"../../data/CIVIC/clean/context/missing_evidence.json\",\n",
    "                      response_file=\"../../outputs/Anthropic/claude3_haiku/base/missing_evidence.json\", \n",
    "                      save_file=\"../Anthropic/claude3_haiku/base/missing_evidence.json\")"
   ]
  },
  {
   "cell_type": "code",
   "execution_count": 4,
   "metadata": {},
   "outputs": [
    {
     "name": "stdout",
     "output_type": "stream",
     "text": [
      "Evaluation complete. Results saved to ../Anthropic/claude3_haiku/base/wrong_evidence.json\n"
     ]
    }
   ],
   "source": [
    "evaluate_explanations(ground_truth_file=\"../../data/CIVIC/clean/context/wrong_evidence.json\",\n",
    "                      response_file=\"../../outputs/Anthropic/claude3_haiku/base/wrong_evidence.json\", \n",
    "                      save_file=\"../Anthropic/claude3_haiku/base/wrong_evidence.json\")"
   ]
  },
  {
   "cell_type": "code",
   "execution_count": 5,
   "metadata": {},
   "outputs": [
    {
     "name": "stdout",
     "output_type": "stream",
     "text": [
      "Evaluation complete. Results saved to ../Anthropic/claude3_haiku/base/mixed.json\n"
     ]
    }
   ],
   "source": [
    "evaluate_explanations(ground_truth_file=\"../../data/CIVIC/clean/context/mixed.json\",\n",
    "                      response_file=\"../../outputs/Anthropic/claude3_haiku/base/mixed.json\", \n",
    "                      save_file=\"../Anthropic/claude3_haiku/base/mixed.json\")"
   ]
  },
  {
   "cell_type": "code",
   "execution_count": 6,
   "metadata": {},
   "outputs": [
    {
     "name": "stdout",
     "output_type": "stream",
     "text": [
      "Evaluation complete. Results saved to ../Anthropic/claude3_haiku/base/selection_test.json\n"
     ]
    }
   ],
   "source": [
    "evaluate_selection_test(ground_truth_file=\"../../data/CIVIC/clean/context/selection_test.json\",\n",
    "                      response_file=\"../../outputs/Anthropic/claude3_haiku/base/selection_test.json\", \n",
    "                      save_file=\"../Anthropic/claude3_haiku/base/selection_test.json\")"
   ]
  },
  {
   "cell_type": "code",
   "execution_count": 7,
   "metadata": {},
   "outputs": [
    {
     "name": "stdout",
     "output_type": "stream",
     "text": [
      "Evaluation complete. Results saved to ../Anthropic/claude3_haiku/base/assignment_test.json\n"
     ]
    }
   ],
   "source": [
    "evaluate_assignment_test(ground_truth_file=\"../../data/CIVIC/clean/context/assignment_test.json\",\n",
    "                      response_file=\"../../outputs/Anthropic/claude3_haiku/base/assignment_test.json\", \n",
    "                      save_file=\"../Anthropic/claude3_haiku/base/assignment_test.json\")"
   ]
  },
  {
   "cell_type": "code",
   "execution_count": 8,
   "metadata": {},
   "outputs": [
    {
     "name": "stdout",
     "output_type": "stream",
     "text": [
      "Evaluation complete. Results saved to ../Anthropic/claude3_haiku/base/full_data_noid.json\n"
     ]
    }
   ],
   "source": [
    "evaluate_explanations(ground_truth_file=\"../../data/R4C/clean/full_data_noid.json\",\n",
    "                      response_file=\"../../outputs/Anthropic/claude3_haiku/base/full_data_noid.json\", \n",
    "                      save_file=\"../Anthropic/claude3_haiku/base/full_data_noid.json\",\n",
    "                      type='r4c')"
   ]
  },
  {
   "cell_type": "markdown",
   "metadata": {},
   "source": [
    "### EXP Agent"
   ]
  },
  {
   "cell_type": "code",
   "execution_count": 9,
   "metadata": {},
   "outputs": [
    {
     "name": "stdout",
     "output_type": "stream",
     "text": [
      "Evaluation complete. Results saved to ../Anthropic/claude3_haiku/exp/baseline.json\n"
     ]
    }
   ],
   "source": [
    "evaluate_explanations(ground_truth_file=\"../../data/CIVIC/clean/context/baseline.json\",\n",
    "                      response_file=\"../../outputs/Anthropic/claude3_haiku/exp/baseline.json\", \n",
    "                      save_file=\"../Anthropic/claude3_haiku/exp/baseline.json\")"
   ]
  },
  {
   "cell_type": "code",
   "execution_count": 10,
   "metadata": {},
   "outputs": [
    {
     "name": "stdout",
     "output_type": "stream",
     "text": [
      "Evaluation complete. Results saved to ../Anthropic/claude3_haiku/exp/missing_evidence.json\n"
     ]
    }
   ],
   "source": [
    "evaluate_explanations(ground_truth_file=\"../../data/CIVIC/clean/context/missing_evidence.json\",\n",
    "                      response_file=\"../../outputs/Anthropic/claude3_haiku/exp/missing_evidence.json\", \n",
    "                      save_file=\"../Anthropic/claude3_haiku/exp/missing_evidence.json\")"
   ]
  },
  {
   "cell_type": "code",
   "execution_count": 11,
   "metadata": {},
   "outputs": [
    {
     "name": "stdout",
     "output_type": "stream",
     "text": [
      "Evaluation complete. Results saved to ../Anthropic/claude3_haiku/exp/wrong_evidence.json\n"
     ]
    }
   ],
   "source": [
    "evaluate_explanations(ground_truth_file=\"../../data/CIVIC/clean/context/wrong_evidence.json\",\n",
    "                      response_file=\"../../outputs/Anthropic/claude3_haiku/exp/wrong_evidence.json\", \n",
    "                      save_file=\"../Anthropic/claude3_haiku/exp/wrong_evidence.json\")"
   ]
  },
  {
   "cell_type": "code",
   "execution_count": 12,
   "metadata": {},
   "outputs": [
    {
     "name": "stdout",
     "output_type": "stream",
     "text": [
      "Evaluation complete. Results saved to ../Anthropic/claude3_haiku/exp/mixed.json\n"
     ]
    }
   ],
   "source": [
    "evaluate_explanations(ground_truth_file=\"../../data/CIVIC/clean/context/mixed.json\",\n",
    "                      response_file=\"../../outputs/Anthropic/claude3_haiku/exp/mixed.json\", \n",
    "                      save_file=\"../Anthropic/claude3_haiku/exp/mixed.json\")"
   ]
  },
  {
   "cell_type": "code",
   "execution_count": 13,
   "metadata": {},
   "outputs": [
    {
     "name": "stdout",
     "output_type": "stream",
     "text": [
      "Evaluation complete. Results saved to ../Anthropic/claude3_haiku/exp/selection_test.json\n"
     ]
    }
   ],
   "source": [
    "evaluate_selection_test(ground_truth_file=\"../../data/CIVIC/clean/context/selection_test.json\",\n",
    "                      response_file=\"../../outputs/Anthropic/claude3_haiku/exp/selection_test.json\", \n",
    "                      save_file=\"../Anthropic/claude3_haiku/exp/selection_test.json\")"
   ]
  },
  {
   "cell_type": "code",
   "execution_count": 14,
   "metadata": {},
   "outputs": [
    {
     "name": "stdout",
     "output_type": "stream",
     "text": [
      "Evaluation complete. Results saved to ../Anthropic/claude3_haiku/exp/assignment_test.json\n"
     ]
    }
   ],
   "source": [
    "evaluate_assignment_test(ground_truth_file=\"../../data/CIVIC/clean/context/assignment_test.json\",\n",
    "                      response_file=\"../../outputs/Anthropic/claude3_haiku/exp/assignment_test.json\", \n",
    "                      save_file=\"../Anthropic/claude3_haiku/exp/assignment_test.json\")"
   ]
  },
  {
   "cell_type": "code",
   "execution_count": 15,
   "metadata": {},
   "outputs": [
    {
     "name": "stdout",
     "output_type": "stream",
     "text": [
      "Evaluation complete. Results saved to ../Anthropic/claude3_haiku/exp/full_data_noid.json\n"
     ]
    }
   ],
   "source": [
    "evaluate_explanations(ground_truth_file=\"../../data/R4C/clean/full_data_noid.json\",\n",
    "                      response_file=\"../../outputs/Anthropic/claude3_haiku/exp/full_data_noid.json\", \n",
    "                      save_file=\"../Anthropic/claude3_haiku/exp/full_data_noid.json\",\n",
    "                      type='r4c')"
   ]
  },
  {
   "cell_type": "markdown",
   "metadata": {},
   "source": [
    "### COH Agent"
   ]
  },
  {
   "cell_type": "code",
   "execution_count": 16,
   "metadata": {},
   "outputs": [
    {
     "name": "stdout",
     "output_type": "stream",
     "text": [
      "Evaluation complete. Results saved to ../Anthropic/claude3_haiku/coh/baseline.json\n"
     ]
    }
   ],
   "source": [
    "evaluate_explanations(ground_truth_file=\"../../data/CIVIC/clean/context/baseline.json\",\n",
    "                      response_file=\"../../outputs/Anthropic/claude3_haiku/coh/baseline.json\", \n",
    "                      save_file=\"../Anthropic/claude3_haiku/coh/baseline.json\")"
   ]
  },
  {
   "cell_type": "code",
   "execution_count": 17,
   "metadata": {},
   "outputs": [
    {
     "name": "stdout",
     "output_type": "stream",
     "text": [
      "Evaluation complete. Results saved to ../Anthropic/claude3_haiku/coh/missing_evidence.json\n"
     ]
    }
   ],
   "source": [
    "evaluate_explanations(ground_truth_file=\"../../data/CIVIC/clean/context/missing_evidence.json\",\n",
    "                      response_file=\"../../outputs/Anthropic/claude3_haiku/coh/missing_evidence.json\", \n",
    "                      save_file=\"../Anthropic/claude3_haiku/coh/missing_evidence.json\")"
   ]
  },
  {
   "cell_type": "code",
   "execution_count": 18,
   "metadata": {},
   "outputs": [
    {
     "name": "stdout",
     "output_type": "stream",
     "text": [
      "Evaluation complete. Results saved to ../Anthropic/claude3_haiku/coh/wrong_evidence.json\n"
     ]
    }
   ],
   "source": [
    "evaluate_explanations(ground_truth_file=\"../../data/CIVIC/clean/context/wrong_evidence.json\",\n",
    "                      response_file=\"../../outputs/Anthropic/claude3_haiku/coh/wrong_evidence.json\", \n",
    "                      save_file=\"../Anthropic/claude3_haiku/coh/wrong_evidence.json\")"
   ]
  },
  {
   "cell_type": "code",
   "execution_count": 19,
   "metadata": {},
   "outputs": [
    {
     "name": "stdout",
     "output_type": "stream",
     "text": [
      "Evaluation complete. Results saved to ../Anthropic/claude3_haiku/coh/mixed.json\n"
     ]
    }
   ],
   "source": [
    "evaluate_explanations(ground_truth_file=\"../../data/CIVIC/clean/context/mixed.json\",\n",
    "                      response_file=\"../../outputs/Anthropic/claude3_haiku/coh/mixed.json\", \n",
    "                      save_file=\"../Anthropic/claude3_haiku/coh/mixed.json\")"
   ]
  },
  {
   "cell_type": "code",
   "execution_count": 20,
   "metadata": {},
   "outputs": [
    {
     "name": "stdout",
     "output_type": "stream",
     "text": [
      "Evaluation complete. Results saved to ../Anthropic/claude3_haiku/coh/selection_test.json\n"
     ]
    }
   ],
   "source": [
    "evaluate_selection_test(ground_truth_file=\"../../data/CIVIC/clean/context/selection_test.json\",\n",
    "                      response_file=\"../../outputs/Anthropic/claude3_haiku/coh/selection_test.json\", \n",
    "                      save_file=\"../Anthropic/claude3_haiku/coh/selection_test.json\")"
   ]
  },
  {
   "cell_type": "code",
   "execution_count": 21,
   "metadata": {},
   "outputs": [
    {
     "name": "stdout",
     "output_type": "stream",
     "text": [
      "Evaluation complete. Results saved to ../Anthropic/claude3_haiku/coh/assignment_test.json\n"
     ]
    }
   ],
   "source": [
    "evaluate_assignment_test(ground_truth_file=\"../../data/CIVIC/clean/context/assignment_test.json\",\n",
    "                      response_file=\"../../outputs/Anthropic/claude3_haiku/coh/assignment_test.json\", \n",
    "                      save_file=\"../Anthropic/claude3_haiku/coh/assignment_test.json\")"
   ]
  },
  {
   "cell_type": "code",
   "execution_count": 22,
   "metadata": {},
   "outputs": [
    {
     "name": "stdout",
     "output_type": "stream",
     "text": [
      "Evaluation complete. Results saved to ../Anthropic/claude3_haiku/coh/full_data_noid.json\n"
     ]
    }
   ],
   "source": [
    "evaluate_explanations(ground_truth_file=\"../../data/R4C/clean/full_data_noid.json\",\n",
    "                      response_file=\"../../outputs/Anthropic/claude3_haiku/coh/full_data_noid.json\", \n",
    "                      save_file=\"../Anthropic/claude3_haiku/coh/full_data_noid.json\",\n",
    "                      type='r4c')"
   ]
  },
  {
   "cell_type": "markdown",
   "metadata": {},
   "source": [
    "### Base + EXP Agent"
   ]
  },
  {
   "cell_type": "code",
   "execution_count": 23,
   "metadata": {},
   "outputs": [
    {
     "name": "stdout",
     "output_type": "stream",
     "text": [
      "Evaluation complete. Results saved to ../Anthropic/claude3_haiku/base_exp/baseline.json\n"
     ]
    }
   ],
   "source": [
    "evaluate_explanations(ground_truth_file=\"../../data/CIVIC/clean/context/baseline.json\",\n",
    "                      response_file=\"../../outputs/Anthropic/claude3_haiku/base_exp/baseline.json\", \n",
    "                      save_file=\"../Anthropic/claude3_haiku/base_exp/baseline.json\")"
   ]
  },
  {
   "cell_type": "code",
   "execution_count": 24,
   "metadata": {},
   "outputs": [
    {
     "name": "stdout",
     "output_type": "stream",
     "text": [
      "Evaluation complete. Results saved to ../Anthropic/claude3_haiku/base_exp/missing_evidence.json\n"
     ]
    }
   ],
   "source": [
    "evaluate_explanations(ground_truth_file=\"../../data/CIVIC/clean/context/missing_evidence.json\",\n",
    "                      response_file=\"../../outputs/Anthropic/claude3_haiku/base_exp/missing_evidence.json\", \n",
    "                      save_file=\"../Anthropic/claude3_haiku/base_exp/missing_evidence.json\")"
   ]
  },
  {
   "cell_type": "code",
   "execution_count": 25,
   "metadata": {},
   "outputs": [
    {
     "name": "stdout",
     "output_type": "stream",
     "text": [
      "Evaluation complete. Results saved to ../Anthropic/claude3_haiku/base_exp/wrong_evidence.json\n"
     ]
    }
   ],
   "source": [
    "evaluate_explanations(ground_truth_file=\"../../data/CIVIC/clean/context/wrong_evidence.json\",\n",
    "                      response_file=\"../../outputs/Anthropic/claude3_haiku/base_exp/wrong_evidence.json\", \n",
    "                      save_file=\"../Anthropic/claude3_haiku/base_exp/wrong_evidence.json\")"
   ]
  },
  {
   "cell_type": "code",
   "execution_count": 26,
   "metadata": {},
   "outputs": [
    {
     "name": "stdout",
     "output_type": "stream",
     "text": [
      "Evaluation complete. Results saved to ../Anthropic/claude3_haiku/base_exp/mixed.json\n"
     ]
    }
   ],
   "source": [
    "evaluate_explanations(ground_truth_file=\"../../data/CIVIC/clean/context/mixed.json\",\n",
    "                      response_file=\"../../outputs/Anthropic/claude3_haiku/base_exp/mixed.json\", \n",
    "                      save_file=\"../Anthropic/claude3_haiku/base_exp/mixed.json\")"
   ]
  },
  {
   "cell_type": "code",
   "execution_count": 27,
   "metadata": {},
   "outputs": [
    {
     "name": "stdout",
     "output_type": "stream",
     "text": [
      "Evaluation complete. Results saved to ../Anthropic/claude3_haiku/base_exp/selection_test.json\n"
     ]
    }
   ],
   "source": [
    "evaluate_selection_test(ground_truth_file=\"../../data/CIVIC/clean/context/selection_test.json\",\n",
    "                      response_file=\"../../outputs/Anthropic/claude3_haiku/base_exp/selection_test.json\", \n",
    "                      save_file=\"../Anthropic/claude3_haiku/base_exp/selection_test.json\")"
   ]
  },
  {
   "cell_type": "code",
   "execution_count": 28,
   "metadata": {},
   "outputs": [
    {
     "name": "stdout",
     "output_type": "stream",
     "text": [
      "Evaluation complete. Results saved to ../Anthropic/claude3_haiku/base_exp/assignment_test.json\n"
     ]
    }
   ],
   "source": [
    "evaluate_assignment_test(ground_truth_file=\"../../data/CIVIC/clean/context/assignment_test.json\",\n",
    "                      response_file=\"../../outputs/Anthropic/claude3_haiku/base_exp/assignment_test.json\", \n",
    "                      save_file=\"../Anthropic/claude3_haiku/base_exp/assignment_test.json\")"
   ]
  },
  {
   "cell_type": "code",
   "execution_count": 29,
   "metadata": {},
   "outputs": [
    {
     "name": "stdout",
     "output_type": "stream",
     "text": [
      "Evaluation complete. Results saved to ../Anthropic/claude3_haiku/base_exp/full_data_noid.json\n"
     ]
    }
   ],
   "source": [
    "evaluate_explanations(ground_truth_file=\"../../data/R4C/clean/full_data_noid.json\",\n",
    "                      response_file=\"../../outputs/Anthropic/claude3_haiku/base_exp/full_data_noid.json\", \n",
    "                      save_file=\"../Anthropic/claude3_haiku/base_exp/full_data_noid.json\",\n",
    "                      type='r4c')"
   ]
  },
  {
   "cell_type": "markdown",
   "metadata": {},
   "source": [
    "### Base + EXP + COH Agent"
   ]
  },
  {
   "cell_type": "code",
   "execution_count": 30,
   "metadata": {},
   "outputs": [
    {
     "name": "stdout",
     "output_type": "stream",
     "text": [
      "Evaluation complete. Results saved to ../Anthropic/claude3_haiku/base_exp_coh/baseline.json\n"
     ]
    }
   ],
   "source": [
    "evaluate_explanations(ground_truth_file=\"../../data/CIVIC/clean/context/baseline.json\",\n",
    "                      response_file=\"../../outputs/Anthropic/claude3_haiku/base_exp_coh/baseline.json\", \n",
    "                      save_file=\"../Anthropic/claude3_haiku/base_exp_coh/baseline.json\")"
   ]
  },
  {
   "cell_type": "code",
   "execution_count": 31,
   "metadata": {},
   "outputs": [
    {
     "name": "stdout",
     "output_type": "stream",
     "text": [
      "Evaluation complete. Results saved to ../Anthropic/claude3_haiku/base_exp_coh/missing_evidence.json\n"
     ]
    }
   ],
   "source": [
    "evaluate_explanations(ground_truth_file=\"../../data/CIVIC/clean/context/missing_evidence.json\",\n",
    "                      response_file=\"../../outputs/Anthropic/claude3_haiku/base_exp_coh/missing_evidence.json\", \n",
    "                      save_file=\"../Anthropic/claude3_haiku/base_exp_coh/missing_evidence.json\")"
   ]
  },
  {
   "cell_type": "code",
   "execution_count": 32,
   "metadata": {},
   "outputs": [
    {
     "name": "stdout",
     "output_type": "stream",
     "text": [
      "Evaluation complete. Results saved to ../Anthropic/claude3_haiku/base_exp_coh/wrong_evidence.json\n"
     ]
    }
   ],
   "source": [
    "evaluate_explanations(ground_truth_file=\"../../data/CIVIC/clean/context/wrong_evidence.json\",\n",
    "                      response_file=\"../../outputs/Anthropic/claude3_haiku/base_exp_coh/wrong_evidence.json\", \n",
    "                      save_file=\"../Anthropic/claude3_haiku/base_exp_coh/wrong_evidence.json\")"
   ]
  },
  {
   "cell_type": "code",
   "execution_count": 33,
   "metadata": {},
   "outputs": [
    {
     "name": "stdout",
     "output_type": "stream",
     "text": [
      "Evaluation complete. Results saved to ../Anthropic/claude3_haiku/base_exp_coh/mixed.json\n"
     ]
    }
   ],
   "source": [
    "evaluate_explanations(ground_truth_file=\"../../data/CIVIC/clean/context/mixed.json\",\n",
    "                      response_file=\"../../outputs/Anthropic/claude3_haiku/base_exp_coh/mixed.json\", \n",
    "                      save_file=\"../Anthropic/claude3_haiku/base_exp_coh/mixed.json\")"
   ]
  },
  {
   "cell_type": "code",
   "execution_count": 34,
   "metadata": {},
   "outputs": [
    {
     "name": "stdout",
     "output_type": "stream",
     "text": [
      "Evaluation complete. Results saved to ../Anthropic/claude3_haiku/base_exp_coh/selection_test.json\n"
     ]
    }
   ],
   "source": [
    "evaluate_selection_test(ground_truth_file=\"../../data/CIVIC/clean/context/selection_test.json\",\n",
    "                      response_file=\"../../outputs/Anthropic/claude3_haiku/base_exp_coh/selection_test.json\", \n",
    "                      save_file=\"../Anthropic/claude3_haiku/base_exp_coh/selection_test.json\")"
   ]
  },
  {
   "cell_type": "code",
   "execution_count": 35,
   "metadata": {},
   "outputs": [
    {
     "name": "stdout",
     "output_type": "stream",
     "text": [
      "Evaluation complete. Results saved to ../Anthropic/claude3_haiku/base_exp_coh/assignment_test.json\n"
     ]
    }
   ],
   "source": [
    "evaluate_assignment_test(ground_truth_file=\"../../data/CIVIC/clean/context/assignment_test.json\",\n",
    "                      response_file=\"../../outputs/Anthropic/claude3_haiku/base_exp_coh/assignment_test.json\", \n",
    "                      save_file=\"../Anthropic/claude3_haiku/base_exp_coh/assignment_test.json\")"
   ]
  },
  {
   "cell_type": "code",
   "execution_count": 36,
   "metadata": {},
   "outputs": [
    {
     "name": "stdout",
     "output_type": "stream",
     "text": [
      "Evaluation complete. Results saved to ../Anthropic/claude3_haiku/base_exp_coh/full_data_noid.json\n"
     ]
    }
   ],
   "source": [
    "evaluate_explanations(ground_truth_file=\"../../data/R4C/clean/full_data_noid.json\",\n",
    "                      response_file=\"../../outputs/Anthropic/claude3_haiku/base_exp_coh/full_data_noid.json\", \n",
    "                      save_file=\"../Anthropic/claude3_haiku/base_exp_coh/full_data_noid.json\",\n",
    "                      type='r4c')"
   ]
  }
 ],
 "metadata": {
  "kernelspec": {
   "display_name": "venv",
   "language": "python",
   "name": "python3"
  },
  "language_info": {
   "codemirror_mode": {
    "name": "ipython",
    "version": 3
   },
   "file_extension": ".py",
   "mimetype": "text/x-python",
   "name": "python",
   "nbconvert_exporter": "python",
   "pygments_lexer": "ipython3",
   "version": "3.10.13"
  }
 },
 "nbformat": 4,
 "nbformat_minor": 2
}
