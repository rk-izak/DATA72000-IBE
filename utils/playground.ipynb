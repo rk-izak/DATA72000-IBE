{
 "cells": [
  {
   "cell_type": "markdown",
   "metadata": {},
   "source": [
    "# Imports and Setup"
   ]
  },
  {
   "cell_type": "code",
   "execution_count": 11,
   "metadata": {},
   "outputs": [],
   "source": [
    "import sys\n",
    "import json\n",
    "sys.path.append('../')\n",
    "\n",
    "from utils import set_api_key\n",
    "from models.sda import SelfDiscovery\n",
    "from models.rag import SelfRAG"
   ]
  },
  {
   "cell_type": "code",
   "execution_count": 4,
   "metadata": {},
   "outputs": [],
   "source": [
    "set_api_key('keys.json', 'OpenAI')\n",
    "set_api_key('keys.json', 'Anthropic')"
   ]
  },
  {
   "cell_type": "markdown",
   "metadata": {},
   "source": [
    "# RAG Test"
   ]
  },
  {
   "cell_type": "code",
   "execution_count": 5,
   "metadata": {},
   "outputs": [],
   "source": [
    "# Initialize SelfRAG\n",
    "rag = SelfRAG(llm_model=\"gpt-4o-mini\", embedding_model=\"text-embedding-3-small\") # via OpenAI API\n",
    "# Supports any GPT or Claude model via their APIs, but only OpenAPI embeddings\n",
    "rag.load_documents(\"../data/CIVIC/clean/evidence_kb.json\")"
   ]
  },
  {
   "cell_type": "code",
   "execution_count": 6,
   "metadata": {},
   "outputs": [],
   "source": [
    "# Test question\n",
    "question = \"What are the effects of crizotinib on lung adenocarcinoma?\""
   ]
  },
  {
   "cell_type": "code",
   "execution_count": 7,
   "metadata": {},
   "outputs": [
    {
     "name": "stdout",
     "output_type": "stream",
     "text": [
      "\n",
      "---RETRIEVE---\n",
      "Question: What are the effects of crizotinib on lung adenocarcinoma?\n",
      "Retrieved 5 relevant documents\n",
      "\n",
      "---GRADE DOCUMENTS---\n",
      "Document relevance: yes\n",
      "Reasoning: The document provides specific data from a clinical trial that directly addresses the effects of crizotinib on lung adenocarcinoma, particularly in patients with ALK-positive lung cancer. It discusses the response rate, progression-free survival, overall survival, and quality of life improvements associated with crizotinib treatment compared to chemotherapy. This information is highly relevant to understanding the impact of crizotinib on lung adenocarcinoma.\n",
      "Document relevance: no\n",
      "Reasoning: The retrieved document only contains the term 'crizotinib' without any additional information or context regarding its effects on lung adenocarcinoma. It does not provide any relevant details or insights that would help answer the user's question.\n",
      "Document relevance: yes\n",
      "Reasoning: The document provides specific information about a clinical study (PROFILE 1007) that evaluates the effects of crizotinib on patients with non-small cell lung cancer, specifically those with lung adenocarcinoma that is positive for ALK rearrangement. It discusses key outcomes such as progression-free survival, response rates, and quality of life improvements, which are directly related to the effects of crizotinib on lung adenocarcinoma.\n",
      "Document relevance: yes\n",
      "Reasoning: The document provides specific information about the effects of crizotinib on lung adenocarcinoma, particularly in the context of a clinical trial comparing it to standard chemotherapy. It details the outcomes such as progression-free survival, objective response rates, and quality of life improvements, which are directly related to the user's question about the effects of crizotinib on this type of cancer.\n",
      "Document relevance: yes\n",
      "Reasoning: The document discusses a study on the effects of crizotinib specifically in patients with advanced ALK-rearranged non-small cell lung cancer (NSCLC), which includes lung adenocarcinoma. It provides data on overall survival rates and the impact of continuing crizotinib treatment after disease progression, directly addressing the effects of crizotinib on lung adenocarcinoma.\n",
      "Filtered to 4 relevant documents\n",
      "\n",
      "---DECISION: GENERATE---\n",
      "\n",
      "---GENERATE---\n",
      "Generated answer:\n",
      "Crizotinib has shown significant benefits in treating lung adenocarcinoma, particularly in patients with ALK-positive lung cancer. In phase-3 clinical trials, crizotinib demonstrated a higher response rate (65% vs. 20%) and improved progression-free survival (7.7 months vs. 3.0 months) compared to chemotherapy. Additionally, in another trial, crizotinib treatment resulted in a median progression-free survival of 10.9 months versus 7.0 months for chemotherapy, with an objective response rate of 75% compared to 45%. Improvements in quality of life were also reported for patients receiving crizotinib. However, there was no significant improvement in overall survival in some studies, indicating that while crizotinib is effective in managing the disease, its impact on long-term survival may vary.\n",
      "\n",
      "---GRADE GENERATION---\n",
      "Hallucination check: yes\n",
      "Reasoning: The AI-generated answer accurately reflects the information provided in the documents. It correctly states that crizotinib has shown significant benefits in treating ALK-positive lung cancer, including a higher response rate (65% vs. 20%) and improved progression-free survival (7.7 months vs. 3.0 months) compared to chemotherapy, which is supported by Evidence ID 1577 and 1198. It also mentions another trial with a median progression-free survival of 10.9 months for crizotinib versus 7.0 months for chemotherapy, which is corroborated by Evidence ID 1199. The mention of improvements in quality of life and the lack of significant improvement in overall survival aligns with the findings in the documents. Therefore, the answer is well-grounded in the provided evidence.\n",
      "Answer quality check: yes\n",
      "Reasoning: The answer provides a comprehensive overview of the effects of crizotinib on lung adenocarcinoma, specifically highlighting its benefits for ALK-positive patients. It includes relevant clinical trial data, such as response rates and progression-free survival, which are critical metrics in evaluating treatment efficacy. Additionally, it mentions quality of life improvements and notes the lack of significant overall survival benefits in some studies, offering a balanced perspective on the drug's impact. Overall, the answer is complete, relevant, and clear.\n"
     ]
    }
   ],
   "source": [
    "# Get relevant evidence\n",
    "relevant_evidence = rag.get_relevant_evidence(question)"
   ]
  },
  {
   "cell_type": "code",
   "execution_count": 8,
   "metadata": {},
   "outputs": [
    {
     "name": "stdout",
     "output_type": "stream",
     "text": [
      "\n",
      "Workflow steps:\n",
      "\n",
      "---RETRIEVE---\n",
      "Question: What are the effects of crizotinib on lung adenocarcinoma?\n",
      "Retrieved 5 relevant documents\n",
      "\n",
      "==================================================\n",
      "Step: retrieve\n",
      "  question: What are the effects of crizotinib on lung adenocarcinoma?\n",
      "  generation: ...\n",
      "  documents: 5 documents\n",
      "  evidence: []\n",
      "  transform_count: 0\n",
      "==================================================\n",
      "\n",
      "---GRADE DOCUMENTS---\n",
      "Document relevance: yes\n",
      "Reasoning: The document provides specific data from a clinical trial that directly addresses the effects of crizotinib on lung adenocarcinoma, particularly in patients with ALK-positive lung cancer. It discusses the response rate, progression-free survival, overall survival, and quality of life improvements associated with crizotinib treatment compared to chemotherapy. This information is highly relevant to understanding the impact of crizotinib on lung adenocarcinoma.\n",
      "Document relevance: no\n",
      "Reasoning: The retrieved document only contains the term 'crizotinib' without any additional information or context regarding its effects on lung adenocarcinoma. It does not provide any relevant details or insights that would help answer the user's question.\n",
      "Document relevance: yes\n",
      "Reasoning: The document provides specific information about a clinical study (PROFILE 1007) that evaluates the effects of crizotinib on patients with non-small cell lung cancer, specifically those with lung adenocarcinoma that is positive for ALK rearrangement. It discusses key outcomes such as progression-free survival, response rates, and quality of life improvements, which are directly related to the effects of crizotinib on lung adenocarcinoma.\n",
      "Document relevance: yes\n",
      "Reasoning: The document provides specific information about the effects of crizotinib on lung adenocarcinoma, particularly in the context of a clinical trial comparing it to standard chemotherapy. It details the outcomes such as progression-free survival, objective response rate, and quality of life improvements, which are directly related to the user's question about the effects of crizotinib on this type of cancer.\n",
      "Document relevance: yes\n",
      "Reasoning: The document discusses a study on the effects of crizotinib in patients with advanced ALK-rearranged non-small cell lung cancer (NSCLC), specifically lung adenocarcinoma. It provides data on overall survival rates and the impact of continuing crizotinib treatment after disease progression, which directly relates to the user's question about the effects of crizotinib on lung adenocarcinoma.\n",
      "Filtered to 4 relevant documents\n",
      "\n",
      "---DECISION: GENERATE---\n",
      "\n",
      "==================================================\n",
      "Step: grade_documents\n",
      "  question: What are the effects of crizotinib on lung adenocarcinoma?\n",
      "  generation: ...\n",
      "  documents: 4 documents\n",
      "  evidence: []\n",
      "  transform_count: 0\n",
      "==================================================\n",
      "\n",
      "---GENERATE---\n",
      "Generated answer:\n",
      "Crizotinib has shown significant benefits for patients with ALK-positive lung adenocarcinoma in clinical trials. In a phase-3 trial, crizotinib demonstrated a higher response rate of 65% compared to 20% for chemotherapy, and it also improved progression-free survival (7.7 months vs. 3.0 months). Additionally, another study indicated that crizotinib treatment resulted in a median progression-free survival of 10.9 months versus 7.0 months for chemotherapy, with an objective response rate of 75% compared to 45%. Improvements in quality of life were reported for patients receiving crizotinib as well. However, there was no significant improvement in overall survival in some studies, indicating that while crizotinib is effective in managing the disease, its impact on long-term survival may vary.\n",
      "\n",
      "---GRADE GENERATION---\n",
      "Hallucination check: yes\n",
      "Reasoning: The AI-generated answer accurately summarizes the findings from the provided documents regarding the efficacy of crizotinib in treating ALK-positive lung adenocarcinoma. It correctly states the response rates (65% vs. 20%), progression-free survival (7.7 months vs. 3.0 months), and mentions the additional study with a median progression-free survival of 10.9 months vs. 7.0 months and response rates of 75% vs. 45%. Furthermore, it notes the improvement in quality of life and the lack of significant overall survival improvement, which aligns with the information in the documents. Therefore, the answer is well-grounded in the provided evidence.\n",
      "Answer quality check: yes\n",
      "Reasoning: The answer provides a comprehensive overview of the effects of crizotinib on lung adenocarcinoma, specifically focusing on its efficacy in ALK-positive cases. It includes relevant clinical trial data, such as response rates and progression-free survival comparisons with chemotherapy, which are crucial for understanding the drug's impact. Additionally, it mentions quality of life improvements and notes the lack of significant overall survival benefits in some studies, which adds depth to the analysis. Overall, the answer is complete, relevant, and clear.\n",
      "\n",
      "==================================================\n",
      "Step: generate\n",
      "  question: What are the effects of crizotinib on lung adenocarcinoma?\n",
      "  generation: Crizotinib has shown significant benefits for patients with ALK-positive lung adenocarcinoma in clin...\n",
      "  documents: 4 documents\n",
      "  evidence: []\n",
      "  transform_count: 0\n",
      "==================================================\n"
     ]
    }
   ],
   "source": [
    "# Run the workflow\n",
    "inputs = {\"question\": question, \"documents\": [], \"generation\": \"\", \"evidence\": [], \"transform_count\": 0}\n",
    "\n",
    "print(\"\\nWorkflow steps:\")\n",
    "for output in rag.workflow.stream(inputs):\n",
    "    print(\"\\n\" + \"=\"*50)\n",
    "    for key, value in output.items():\n",
    "        print(f\"Step: {key}\")\n",
    "        if isinstance(value, dict):\n",
    "            for k, v in value.items():\n",
    "                if k == \"documents\":\n",
    "                    print(f\"  {k}: {len(v)} documents\")\n",
    "                elif k == \"generation\":\n",
    "                    print(f\"  {k}: {v[:100]}...\")  # first 100 characters of generation\n",
    "                else:\n",
    "                    print(f\"  {k}: {v}\")\n",
    "        else:\n",
    "            print(f\"  Output: {value}\")\n",
    "    print(\"=\"*50)"
   ]
  },
  {
   "cell_type": "markdown",
   "metadata": {},
   "source": [
    "# SDA Test"
   ]
  },
  {
   "cell_type": "code",
   "execution_count": 10,
   "metadata": {},
   "outputs": [],
   "source": [
    "# Each reasoning module can be turned on/off but at least 1 must be active\n",
    "sda = SelfDiscovery(\n",
    "    model_type=\"openai\", # can also be anthropic\n",
    "    model_name=\"gpt-3.5-turbo\", # can be any model from Anthropic/OpenAI API\n",
    "    use_base=True,\n",
    "    use_exp=False,\n",
    "    use_coh=True,\n",
    "    modules_path=\"../models/reasoning_modules\"\n",
    ")"
   ]
  },
  {
   "cell_type": "code",
   "execution_count": 15,
   "metadata": {},
   "outputs": [],
   "source": [
    "# Test task (simple example)\n",
    "task = \"Evaluate the claim: 'Regular excercise increases the risk of Lung Cancer.', state either 'True' or 'False'.\""
   ]
  },
  {
   "cell_type": "code",
   "execution_count": 16,
   "metadata": {},
   "outputs": [
    {
     "name": "stdout",
     "output_type": "stream",
     "text": [
      "SelfDiscovery Workflow Steps:\n",
      "\n",
      "==================================================\n",
      "Step: provide_context\n",
      "  task_description: Evaluate the claim: 'Regular exercise increases the risk of Lung Cancer' based on the coherence of the supporting evidence and background knowledge. State either 'True' or 'False'.\n",
      "  context: Coherence: Coherence is the extent to which a set of propositions, such as hypotheses and observations, fit together in a mutually supportive way within a given body of background knowledge (K). Coherence is enhanced when elements of a hypothesis explain and support each other, forming a consistent and unified whole.\n",
      "\n",
      "\n",
      "==================================================\n",
      "\n",
      "==================================================\n",
      "Step: select\n",
      "  selected_modules: B5. What are the key assumptions underlying this problem?\n",
      "B10. Critical Thinking\n",
      "B16. What is the co...\n",
      "==================================================\n",
      "\n",
      "==================================================\n",
      "Step: adapt\n",
      "  adapted_modules: B5. What are the key assumptions underlying the claim that 'Regular exercise increases the risk of L...\n",
      "==================================================\n",
      "\n",
      "==================================================\n",
      "Step: structure\n",
      "  reasoning_structure: {\n",
      "    \"Step 1\": \"Identify the key assumptions underlying the claim that 'Regular exercise increases ...\n",
      "==================================================\n",
      "\n",
      "==================================================\n",
      "Step: reason\n",
      "  answer: {\n",
      "    \"Step 1\": \"Identify the key assumptions underlying the claim that 'Regular exercise increases ...\n",
      "==================================================\n"
     ]
    }
   ],
   "source": [
    "# Run the workflow\n",
    "print(\"SelfDiscovery Workflow Steps:\")\n",
    "for step in sda.solve_stream(task):\n",
    "    print(\"\\n\" + \"=\"*50)\n",
    "    for key, value in step.items():\n",
    "        print(f\"Step: {key}\")\n",
    "        if isinstance(value, dict):\n",
    "            for k, v in value.items():\n",
    "                if k in [\"reasoning_modules\", \"selected_modules\", \"adapted_modules\", \"reasoning_structure\", \"answer\"]:\n",
    "                    print(f\"  {k}: {v[:100]}...\")  # first 100 characters\n",
    "                else:\n",
    "                    print(f\"  {k}: {v}\")\n",
    "        else:\n",
    "            print(f\"  Output: {value}\")\n",
    "    print(\"=\"*50)"
   ]
  },
  {
   "cell_type": "code",
   "execution_count": 17,
   "metadata": {},
   "outputs": [
    {
     "name": "stdout",
     "output_type": "stream",
     "text": [
      "\n",
      "Final Solution:\n",
      "{\n",
      "  \"reasoning_modules\": \"B1. How could I devise an experiment to help solve that problem?\\nB3. How could I measure progress on this problem?\\nB4. How can I simplify the problem so that it is easier to solve?\\nB5. What are the key assumptions underlying this problem?\\nB8. What are the long-term implications of this problem and its solutions?\\nB10. Critical Thinking: This style involves analyzing the problem from different perspectives, questioning assumptions, and evaluating the evidence or information available. It focuses on logical reasoning, evidence-based decision-making, and identifying potential biases or flaws in thinking.\\nB13. Use systems thinking: Consider the problem as part of a larger system and understanding the interconnectedness of various elements. Focuses on identifying the underlying causes, feedback loops, and interdependencies that influence the problem, and developing holistic solutions that address the system as a whole.\\nB15. Use Reflective Thinking: Step back from the problem, take the time for introspection and self-reflection. Examine personal biases, assumptions, and mental models that may influence problem-solving, and being open to learning from past experiences to improve future approaches.\\nB16. What is the core issue or problem that needs to be addressed?\\nB17. What are the underlying causes or factors contributing to the problem?\\nB18. Are there any potential solutions or strategies that have been tried before? If yes, what were the outcomes and lessons learned?\\nB19. What are the potential obstacles or challenges that might arise in solving this problem?\\nB20. Are there any relevant data or information that can provide insights into the problem? If yes, what data sources are available, and how can they be analyzed?\\nB21. Are there any stakeholders or individuals who are directly affected by the problem? What are their perspectives and needs?\\nB23. How can progress or success in solving the problem be measured or evaluated?\\nB24. What indicators or metrics can be used?\\nB25. Is the problem a technical or practical one that requires a specific expertise or skill set? Or is it more of a conceptual or theoretical problem?\\nB27. Is the problem related to human behavior, such as a social, cultural, or psychological issue?\\nB28. Does the problem involve decision-making or planning, where choices need to be made under uncertainty or with competing objectives?\\nB29. Is the problem an analytical one that requires data analysis, modeling, or optimization techniques?\\nB32. Is the problem time-sensitive or urgent, requiring immediate attention and action?\\nB33. What kinds of solution typically are produced for this kind of problem specification?\\nB34. Given the problem specification and the current best solution, have a guess about other possible solutions.\\nB35. Let's imagine the current best solution is totally wrong, what other ways are there to think about the problem specification?\\nB36. What is the best way to modify this current best solution, given what you know about these kinds of problem specification?\\nB37. Ignoring the current best solution, create an entirely new solution to the problem.\\nC1. How can I determine if a set of beliefs or propositions are coherent with each other?\\nC2. Identify the logical, explanatory, and probabilistic relationships between the beliefs in this set.\\nC3. Evaluate whether the addition of new evidence affects the coherence of existing hypotheses.\\nC4. What measures can be used to quantify the coherence between different beliefs?\\nC5. Consider whether all beliefs in the system mutually support each other.\\nC6. How can the coherence of this explanation be improved?\\nC7. Assess if the hypothesis explains the evidence in a way that fits well with other accepted beliefs.\\nC8. Use a probabilistic approach to calculate how new evidence changes the coherence of current beliefs.\\nC9. How can I identify the weakest link in the coherence of a set of beliefs?\\nC10. Determine whether there are any contradictory beliefs within the system.\\nC11. How do different evidence pieces contribute to the overall coherence of an explanation?\\nC12. Analyze whether this set of beliefs forms a coherent network or if it requires restructuring.\\nC13. What is the role of coherence in justifying a belief or hypothesis?\\nC14. Evaluate whether coherence alone is sufficient to indicate truth in this context.\\nC15. How can inconsistencies be resolved to improve coherence?\\nC16. Determine if there are alternative hypotheses that offer greater coherence with the available evidence.\\nC17. How does the coherence of this explanation compare with competing explanations?\\nC18. How can coherence-based reasoning help in making decisions under uncertainty?\\nC19. How does coherence interact with other epistemic virtues like simplicity and explanatory depth?\\nC20. Assess if the coherence of a belief set is disrupted by external, new, or conflicting evidence.\\nC21. Analyze the trade-offs between coherence and other epistemic measures for this context.\\nC22. How does coherence relate to Bayesian measures of confirmation?\\nC23. Evaluate whether a lack of coherence suggests the need for hypothesis revision.\\nC24. Develop a method to rank hypotheses based on their coherence with the evidence.\\nC25. What are the limitations of using coherence as the sole criterion for belief justification?\\nC26. How can coherence help in choosing the best explanation among several competing ones?\\nC27. Determine if coherence supports the inference to the best explanation in this case.\\nC28. What are the implications of coherence for scientific theory acceptance?\\nC29. Develop strategies to enhance coherence in collaborative knowledge-building efforts.\\nC30. Evaluate the impact of coherence on the robustness of a scientific theory or model.\",\n",
      "  \"task_description\": \"Evaluate the claim: 'Regular exercise increases the risk of Lung Cancer' based on the concept of coherence, where coherence is the extent to which a set of propositions fit together in a mutually supportive way within a given body of background knowledge. State either 'True' or 'False'.\",\n",
      "  \"context\": \"Coherence: Coherence is the extent to which a set of propositions, such as hypotheses and observations, fit together in a mutually supportive way within a given body of background knowledge (K). Coherence is enhanced when elements of a hypothesis explain and support each other, forming a consistent and unified whole.\\n\\n\",\n",
      "  \"selected_modules\": \"B5. What are the key assumptions underlying this problem?\\nB16. What is the core issue or problem that needs to be addressed?\\nB17. What are the underlying causes or factors contributing to the problem?\\nC1. How can I determine if a set of beliefs or propositions are coherent with each other?\\nC4. What measures can be used to quantify the coherence between different beliefs?\\nC7. Assess if the hypothesis explains the evidence in a way that fits well with other accepted beliefs.\",\n",
      "  \"adapted_modules\": \"B5. What are the key assumptions underlying the claim that 'Regular exercise increases the risk of Lung Cancer'?\\nB16. What is the core issue or problem that needs to be addressed in evaluating the claim?\\nB17. What are the underlying causes or factors contributing to the claim that 'Regular exercise increases the risk of Lung Cancer'?\\nC1. How can I determine if the claim that 'Regular exercise increases the risk of Lung Cancer' is coherent with other beliefs or propositions?\\nC4. What measures can be used to quantify the coherence between the claim and other beliefs or propositions?\\nC7. Assess if the claim that 'Regular exercise increases the risk of Lung Cancer' explains the evidence in a way that fits well with other accepted beliefs.\",\n",
      "  \"reasoning_structure\": \"{\\n    \\\"Position after instruction 1\\\": \\\"Identify the key assumptions underlying the claim that 'Regular exercise increases the risk of Lung Cancer'\\\",\\n    \\\"Position after instruction 2\\\": \\\"Identify the core issue or problem that needs to be addressed in evaluating the claim\\\",\\n    \\\"Position after instruction 3\\\": \\\"Identify the underlying causes or factors contributing to the claim that 'Regular exercise increases the risk of Lung Cancer'\\\",\\n    \\\"Position after instruction 4\\\": \\\"Determine how to quantify the coherence between the claim and other beliefs or propositions\\\",\\n    \\\"Position after instruction 5\\\": \\\"Assess if the claim explains the evidence in a way that fits well with other accepted beliefs\\\",\\n    \\\"Is final position the same as starting position\\\": \\\"State either 'True' or 'False' based on the evaluation of the claim\\\"\\n}\",\n",
      "  \"answer\": \"{\\n    \\\"Position after instruction 1\\\": \\\"Regular exercise is generally associated with health benefits and reduced risk of various diseases.\\\",\\n    \\\"Position after instruction 2\\\": \\\"The core issue is whether there is sufficient evidence to support the claim that regular exercise specifically increases the risk of Lung Cancer.\\\",\\n    \\\"Position after instruction 3\\\": \\\"Factors such as exposure to environmental toxins, genetic predisposition, and lifestyle habits like smoking are known to be primary causes of Lung Cancer.\\\",\\n    \\\"Position after instruction 4\\\": \\\"Quantifying the coherence involves examining the consistency of the claim with existing scientific research on the relationship between exercise and Lung Cancer risk.\\\",\\n    \\\"Position after instruction 5\\\": \\\"The claim does not align well with the established understanding that regular exercise is beneficial for overall health and can reduce the risk of various types of cancer.\\\",\\n    \\\"Is final position the same as starting position\\\": \\\"False\\\"\\n}\"\n",
      "}\n"
     ]
    }
   ],
   "source": [
    "# Final Solution\n",
    "solution = sda.solve(task)\n",
    "print(\"\\nFinal Solution:\")\n",
    "print(json.dumps(solution, indent=2))"
   ]
  }
 ],
 "metadata": {
  "kernelspec": {
   "display_name": "venv",
   "language": "python",
   "name": "python3"
  },
  "language_info": {
   "codemirror_mode": {
    "name": "ipython",
    "version": 3
   },
   "file_extension": ".py",
   "mimetype": "text/x-python",
   "name": "python",
   "nbconvert_exporter": "python",
   "pygments_lexer": "ipython3",
   "version": "3.10.13"
  }
 },
 "nbformat": 4,
 "nbformat_minor": 2
}
