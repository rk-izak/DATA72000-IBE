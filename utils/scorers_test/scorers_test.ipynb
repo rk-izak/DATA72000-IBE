{
 "cells": [
  {
   "cell_type": "markdown",
   "metadata": {},
   "source": [
    "# Scorers Unit Testing"
   ]
  },
  {
   "cell_type": "markdown",
   "metadata": {},
   "source": [
    "### Imports"
   ]
  },
  {
   "cell_type": "code",
   "execution_count": 1,
   "metadata": {},
   "outputs": [],
   "source": [
    "import sys\n",
    "import json\n",
    "from typing import List, Dict, Callable, Any, Union"
   ]
  },
  {
   "cell_type": "markdown",
   "metadata": {},
   "source": [
    "### Setup\n",
    "Ensure HuggingFace access to any restricted model via HuggingFace API."
   ]
  },
  {
   "cell_type": "code",
   "execution_count": 2,
   "metadata": {},
   "outputs": [
    {
     "name": "stderr",
     "output_type": "stream",
     "text": [
      "/Users/radoslawizak/Desktop/MSc Data Science/Research project/venv/lib/python3.10/site-packages/tqdm/auto.py:21: TqdmWarning: IProgress not found. Please update jupyter and ipywidgets. See https://ipywidgets.readthedocs.io/en/stable/user_install.html\n",
      "  from .autonotebook import tqdm as notebook_tqdm\n",
      "Hardware accelerator e.g. GPU is available in the environment, but no `device` argument is passed to the `Pipeline` object. Model will be on CPU.\n"
     ]
    }
   ],
   "source": [
    "# Relative pathing for import\n",
    "sys.path.append('../')\n",
    "from scorers import (\n",
    "    calculate_bertscore,\n",
    "    fluency_score,\n",
    "    semantic_similarity,\n",
    "    nli_score,\n",
    "    explanation_accuracy_score,\n",
    "    claim_support_score,\n",
    "    evidence_selection_score,\n",
    "    coherence_score,\n",
    "    fact_verification_score,\n",
    "    explanation_completeness_score,\n",
    "    evidence_relevance_score,\n",
    "    claim_evidence_alignment_score\n",
    ")"
   ]
  },
  {
   "cell_type": "code",
   "execution_count": 3,
   "metadata": {},
   "outputs": [],
   "source": [
    "# Load test data\n",
    "with open('scorers_unit_test.json', 'r') as f:\n",
    "    test_data: Dict[str, List[Dict[str, Any]]] = json.load(f)"
   ]
  },
  {
   "cell_type": "markdown",
   "metadata": {},
   "source": [
    "### Run tests"
   ]
  },
  {
   "cell_type": "code",
   "execution_count": 4,
   "metadata": {},
   "outputs": [],
   "source": [
    "def run_tests(metric_name: str, metric_function: Callable) -> None:\n",
    "    \"\"\"\n",
    "    Run tests for a given metric function.\n",
    "\n",
    "    Args:\n",
    "        metric_name (str): Name of the metric being tested.\n",
    "        metric_function (Callable): The metric function to test.\n",
    "    \"\"\"\n",
    "    print(f\"Testing {metric_name}\")\n",
    "    print(\"-\" * 40)\n",
    "    \n",
    "    for i, test_case in enumerate(test_data[metric_name], 1):\n",
    "        print(f\"Test case {i}:\")\n",
    "        \n",
    "        # Print input\n",
    "        for key, value in test_case.items():\n",
    "            if key != 'expected_score':\n",
    "                print(f\"{key}:\")\n",
    "                print(f\"{value}\")\n",
    "                print()\n",
    "        \n",
    "        # Run metric function\n",
    "        result = execute_metric_function(metric_name, metric_function, test_case)\n",
    "        \n",
    "        # Print result\n",
    "        print(\"Result:\")\n",
    "        print(result)\n",
    "        print(f\"Expected score: {test_case['expected_score']}\")\n",
    "        print(\"\\n\" + \"=\" * 40 + \"\\n\")\n",
    "\n",
    "\n",
    "def execute_metric_function(metric_name: str, metric_function: Callable, test_case: Dict[str, Any]) -> Union[float, Dict[str, float]]:\n",
    "    \"\"\"\n",
    "    Execute the appropriate metric function based on the metric name.\n",
    "\n",
    "    Args:\n",
    "        metric_name (str): Name of the metric being tested.\n",
    "        metric_function (Callable): The metric function to execute.\n",
    "        test_case (Dict[str, Any]): The test case data.\n",
    "\n",
    "    Returns:\n",
    "        Union[float, Dict[str, float]]: The result of the metric function.\n",
    "    \"\"\"\n",
    "    if metric_name == 'calculate_bertscore':\n",
    "        return metric_function(test_case['candidate'], test_case['reference'])\n",
    "    elif metric_name in ['fluency_score', 'coherence_score']:\n",
    "        return metric_function(test_case['generated_explanation'])\n",
    "    elif metric_name == 'semantic_similarity':\n",
    "        return metric_function(test_case['text1'], test_case['text2'])\n",
    "    elif metric_name == 'nli_score':\n",
    "        return metric_function(test_case['premise'], test_case['hypothesis'])\n",
    "    elif metric_name in ['explanation_accuracy_score', 'explanation_completeness_score']:\n",
    "        return metric_function(test_case['generated_explanation'], test_case['golden_explanation'])\n",
    "    elif metric_name == 'claim_support_score':\n",
    "        return metric_function(test_case['claim'], test_case['generated_explanation'])\n",
    "    elif metric_name == 'evidence_selection_score':\n",
    "        return metric_function(test_case['predicted_evidence_ids'], test_case['golden_evidence_ids'])\n",
    "    elif metric_name == 'fact_verification_score':\n",
    "        return metric_function(test_case['generated_explanation'], test_case['evidence_texts'])\n",
    "    elif metric_name in ['evidence_relevance_score', 'claim_evidence_alignment_score']:\n",
    "        return metric_function(test_case['claim'], test_case['selected_evidence'])\n",
    "    else:\n",
    "        raise ValueError(f\"Unknown metric: {metric_name}\")"
   ]
  },
  {
   "cell_type": "code",
   "execution_count": 5,
   "metadata": {},
   "outputs": [
    {
     "name": "stdout",
     "output_type": "stream",
     "text": [
      "Testing calculate_bertscore\n",
      "----------------------------------------\n",
      "Test case 1:\n",
      "candidate:\n",
      "EGFR mutations predict response to EGFR TKIs in lung cancer.\n",
      "\n",
      "reference:\n",
      "EGFR mutations indicate sensitivity to EGFR tyrosine kinase inhibitors in lung cancer.\n",
      "\n",
      "Result:\n",
      "{'Precision': 0.8548259735107422, 'Recall': 0.8211377859115601, 'F1': 0.8376433253288269}\n",
      "Expected score: Highest\n",
      "\n",
      "========================================\n",
      "\n",
      "Test case 2:\n",
      "candidate:\n",
      "Some genetic changes in lung cancer can guide treatment choices.\n",
      "\n",
      "reference:\n",
      "EGFR mutations indicate sensitivity to EGFR tyrosine kinase inhibitors in lung cancer.\n",
      "\n",
      "Result:\n",
      "{'Precision': 0.6754329204559326, 'Recall': 0.5660730600357056, 'F1': 0.6159364581108093}\n",
      "Expected score: Medium\n",
      "\n",
      "========================================\n",
      "\n",
      "Test case 3:\n",
      "candidate:\n",
      "Chemotherapy is a common treatment for many types of cancer.\n",
      "\n",
      "reference:\n",
      "EGFR mutations indicate sensitivity to EGFR tyrosine kinase inhibitors in lung cancer.\n",
      "\n",
      "Result:\n",
      "{'Precision': 0.570564329624176, 'Recall': 0.49837350845336914, 'F1': 0.532031238079071}\n",
      "Expected score: Lowest\n",
      "\n",
      "========================================\n",
      "\n"
     ]
    }
   ],
   "source": [
    "# Test calculate_bertscore\n",
    "run_tests('calculate_bertscore', calculate_bertscore)"
   ]
  },
  {
   "cell_type": "code",
   "execution_count": 6,
   "metadata": {},
   "outputs": [
    {
     "name": "stdout",
     "output_type": "stream",
     "text": [
      "Testing fluency_score\n",
      "----------------------------------------\n",
      "Test case 1:\n",
      "generated_explanation:\n",
      "BRCA mutations increase cancer risk by impairing DNA repair. This makes cells more susceptible to genomic instability and malignant transformation.\n",
      "\n",
      "Result:\n",
      "0.7809737014770508\n",
      "Expected score: High\n",
      "\n",
      "========================================\n",
      "\n",
      "Test case 2:\n",
      "generated_explanation:\n",
      "BRCA mutations make cancer more likely. They affect how cells fix DNA. This can lead to cancer.\n",
      "\n",
      "Result:\n",
      "0.6634459686279297\n",
      "Expected score: Medium\n",
      "\n",
      "========================================\n",
      "\n",
      "Test case 3:\n",
      "generated_explanation:\n",
      "BRCA bad. DNA break. Cancer happen.\n",
      "\n",
      "Result:\n",
      "0\n",
      "Expected score: Low\n",
      "\n",
      "========================================\n",
      "\n"
     ]
    }
   ],
   "source": [
    "# Test fluency_score\n",
    "run_tests('fluency_score', fluency_score)"
   ]
  },
  {
   "cell_type": "code",
   "execution_count": 7,
   "metadata": {},
   "outputs": [
    {
     "name": "stdout",
     "output_type": "stream",
     "text": [
      "Testing semantic_similarity\n",
      "----------------------------------------\n",
      "Test case 1:\n",
      "text1:\n",
      "HER2 amplification is a predictive biomarker for trastuzumab in breast cancer.\n",
      "\n",
      "text2:\n",
      "HER2 overexpression indicates likely response to HER2-targeted therapies in breast cancer patients.\n",
      "\n",
      "Result:\n",
      "0.8255205154418945\n",
      "Expected score: Highest\n",
      "\n",
      "========================================\n",
      "\n",
      "Test case 2:\n",
      "text1:\n",
      "HER2 amplification is a predictive biomarker for trastuzumab in breast cancer.\n",
      "\n",
      "text2:\n",
      "Some genetic changes in breast cancer can help guide treatment decisions.\n",
      "\n",
      "Result:\n",
      "0.5296799540519714\n",
      "Expected score: Medium\n",
      "\n",
      "========================================\n",
      "\n",
      "Test case 3:\n",
      "text1:\n",
      "HER2 amplification is a predictive biomarker for trastuzumab in breast cancer.\n",
      "\n",
      "text2:\n",
      "Regular mammograms are important for early detection of breast cancer.\n",
      "\n",
      "Result:\n",
      "0.316358357667923\n",
      "Expected score: Lowest\n",
      "\n",
      "========================================\n",
      "\n"
     ]
    }
   ],
   "source": [
    "# Test semantic_similarity\n",
    "run_tests('semantic_similarity', semantic_similarity)"
   ]
  },
  {
   "cell_type": "code",
   "execution_count": 8,
   "metadata": {},
   "outputs": [
    {
     "name": "stdout",
     "output_type": "stream",
     "text": [
      "Testing nli_score\n",
      "----------------------------------------\n",
      "Test case 1:\n",
      "premise:\n",
      "KRAS mutations are associated with resistance to EGFR inhibitors in colorectal cancer.\n",
      "\n",
      "hypothesis:\n",
      "Patients with KRAS-mutant colorectal cancer are unlikely to benefit from cetuximab treatment.\n",
      "\n",
      "Result:\n",
      "2.0350900292396545\n",
      "Expected score: Highest\n",
      "\n",
      "========================================\n",
      "\n",
      "Test case 2:\n",
      "premise:\n",
      "KRAS mutations are associated with resistance to EGFR inhibitors in colorectal cancer.\n",
      "\n",
      "hypothesis:\n",
      "Genetic testing is important in colorectal cancer treatment planning.\n",
      "\n",
      "Result:\n",
      "0.8370858430862427\n",
      "Expected score: Medium\n",
      "\n",
      "========================================\n",
      "\n",
      "Test case 3:\n",
      "premise:\n",
      "KRAS mutations are associated with resistance to EGFR inhibitors in colorectal cancer.\n",
      "\n",
      "hypothesis:\n",
      "All colorectal cancer patients should receive EGFR inhibitors as first-line treatment.\n",
      "\n",
      "Result:\n",
      "0.5540798902511597\n",
      "Expected score: Lowest\n",
      "\n",
      "========================================\n",
      "\n"
     ]
    }
   ],
   "source": [
    "# Test nli_score\n",
    "run_tests('nli_score', nli_score)"
   ]
  },
  {
   "cell_type": "code",
   "execution_count": 9,
   "metadata": {},
   "outputs": [
    {
     "name": "stdout",
     "output_type": "stream",
     "text": [
      "Testing explanation_accuracy_score\n",
      "----------------------------------------\n",
      "Test case 1:\n",
      "generated_explanation:\n",
      "PD-L1 expression correlates with response to PD-1/PD-L1 inhibitors.\n",
      "\n",
      "golden_explanation:\n",
      "PD-L1 expression levels are associated with increased likelihood of response to PD-1/PD-L1 checkpoint inhibitors.\n",
      "\n",
      "Result:\n",
      "0.914983868598938\n",
      "Expected score: Highest\n",
      "\n",
      "========================================\n",
      "\n",
      "Test case 2:\n",
      "generated_explanation:\n",
      "PD-L1 is a protein that affects how some cancer treatments work.\n",
      "\n",
      "golden_explanation:\n",
      "PD-L1 expression levels are associated with increased likelihood of response to PD-1/PD-L1 checkpoint inhibitors.\n",
      "\n",
      "Result:\n",
      "0.7500367760658264\n",
      "Expected score: Medium\n",
      "\n",
      "========================================\n",
      "\n",
      "Test case 3:\n",
      "generated_explanation:\n",
      "Chemotherapy kills rapidly dividing cells.\n",
      "\n",
      "golden_explanation:\n",
      "PD-L1 expression levels are associated with increased likelihood of response to PD-1/PD-L1 checkpoint inhibitors.\n",
      "\n",
      "Result:\n",
      "0.15234696865081787\n",
      "Expected score: Lowest\n",
      "\n",
      "========================================\n",
      "\n"
     ]
    }
   ],
   "source": [
    "# Test explanation_accuracy_score\n",
    "run_tests('explanation_accuracy_score', explanation_accuracy_score)"
   ]
  },
  {
   "cell_type": "code",
   "execution_count": 10,
   "metadata": {},
   "outputs": [
    {
     "name": "stdout",
     "output_type": "stream",
     "text": [
      "Testing claim_support_score\n",
      "----------------------------------------\n",
      "Test case 1:\n",
      "claim:\n",
      "ALK inhibitors are effective in ALK-rearranged NSCLC.\n",
      "\n",
      "generated_explanation:\n",
      "ALK inhibitors specifically target the aberrant ALK fusion proteins, leading to tumor cell death in ALK-rearranged NSCLC.\n",
      "\n",
      "Result:\n",
      "0.8235062956809998\n",
      "Expected score: Highest\n",
      "\n",
      "========================================\n",
      "\n",
      "Test case 2:\n",
      "claim:\n",
      "ALK inhibitors are effective in ALK-rearranged NSCLC.\n",
      "\n",
      "generated_explanation:\n",
      "Targeted therapies can be effective in some types of lung cancer with specific genetic changes.\n",
      "\n",
      "Result:\n",
      "0.390979528427124\n",
      "Expected score: Medium\n",
      "\n",
      "========================================\n",
      "\n",
      "Test case 3:\n",
      "claim:\n",
      "ALK inhibitors are effective in ALK-rearranged NSCLC.\n",
      "\n",
      "generated_explanation:\n",
      "Smoking is a major risk factor for developing lung cancer.\n",
      "\n",
      "Result:\n",
      "0.14656774699687958\n",
      "Expected score: Lowest\n",
      "\n",
      "========================================\n",
      "\n"
     ]
    }
   ],
   "source": [
    "# Test claim_support_score\n",
    "run_tests('claim_support_score', claim_support_score)"
   ]
  },
  {
   "cell_type": "code",
   "execution_count": 11,
   "metadata": {},
   "outputs": [
    {
     "name": "stdout",
     "output_type": "stream",
     "text": [
      "Testing evidence_selection_score\n",
      "----------------------------------------\n",
      "Test case 1:\n",
      "predicted_evidence_ids:\n",
      "[1, 2, 3, 4]\n",
      "\n",
      "golden_evidence_ids:\n",
      "[1, 2, 3, 4]\n",
      "\n",
      "Result:\n",
      "{'Precision': 1.0, 'Recall': 1.0, 'F1': 1.0}\n",
      "Expected score: Highest\n",
      "\n",
      "========================================\n",
      "\n",
      "Test case 2:\n",
      "predicted_evidence_ids:\n",
      "[1, 2, 3, 5]\n",
      "\n",
      "golden_evidence_ids:\n",
      "[1, 2, 3, 4]\n",
      "\n",
      "Result:\n",
      "{'Precision': 0.75, 'Recall': 1.0, 'F1': 0.8571428571428571}\n",
      "Expected score: Medium\n",
      "\n",
      "========================================\n",
      "\n",
      "Test case 3:\n",
      "predicted_evidence_ids:\n",
      "[5, 6, 7, 8]\n",
      "\n",
      "golden_evidence_ids:\n",
      "[1, 2, 3, 4]\n",
      "\n",
      "Result:\n",
      "{'Precision': 0.0, 'Recall': 0.0, 'F1': 0.0}\n",
      "Expected score: Lowest\n",
      "\n",
      "========================================\n",
      "\n"
     ]
    },
    {
     "name": "stderr",
     "output_type": "stream",
     "text": [
      "/Users/radoslawizak/Desktop/MSc Data Science/Research project/venv/lib/python3.10/site-packages/sklearn/metrics/_classification.py:1531: UndefinedMetricWarning: Recall is ill-defined and being set to 0.0 due to no true samples. Use `zero_division` parameter to control this behavior.\n",
      "  _warn_prf(average, modifier, f\"{metric.capitalize()} is\", len(result))\n"
     ]
    }
   ],
   "source": [
    "# Test evidence_selection_score\n",
    "run_tests('evidence_selection_score', evidence_selection_score)"
   ]
  },
  {
   "cell_type": "code",
   "execution_count": 12,
   "metadata": {},
   "outputs": [
    {
     "name": "stdout",
     "output_type": "stream",
     "text": [
      "Testing coherence_score\n",
      "----------------------------------------\n",
      "Test case 1:\n",
      "generated_explanation:\n",
      "BRAF V600E mutations activate the MAPK pathway. This leads to uncontrolled cell growth. BRAF inhibitors can block this aberrant signaling.\n",
      "\n",
      "Result:\n",
      "0.9444719851016998\n",
      "Expected score: High\n",
      "\n",
      "========================================\n",
      "\n",
      "Test case 2:\n",
      "generated_explanation:\n",
      "BRAF mutations occur in melanoma. They affect cell signaling. Some drugs can target these mutations.\n",
      "\n",
      "Result:\n",
      "0.9068260490894318\n",
      "Expected score: Medium\n",
      "\n",
      "========================================\n",
      "\n",
      "Test case 3:\n",
      "generated_explanation:\n",
      "BRAF important in cancer. Drugs exist. Melanoma treatment changing. Genetic testing helps.\n",
      "\n",
      "Result:\n",
      "1.0926899413267772\n",
      "Expected score: Low\n",
      "\n",
      "========================================\n",
      "\n"
     ]
    }
   ],
   "source": [
    "# Test coherence_score\n",
    "run_tests('coherence_score', coherence_score)"
   ]
  },
  {
   "cell_type": "code",
   "execution_count": 13,
   "metadata": {},
   "outputs": [
    {
     "name": "stdout",
     "output_type": "stream",
     "text": [
      "Testing fact_verification_score\n",
      "----------------------------------------\n",
      "Test case 1:\n",
      "generated_explanation:\n",
      "BRCA mutations increase risk of breast and ovarian cancers.\n",
      "\n",
      "evidence_texts:\n",
      "['BRCA1 and BRCA2 mutations are associated with higher risk of breast and ovarian cancers.', 'Individuals with BRCA mutations often undergo increased cancer screening.']\n",
      "\n",
      "Result:\n",
      "1.6268236935138702\n",
      "Expected score: High\n",
      "\n",
      "========================================\n",
      "\n",
      "Test case 2:\n",
      "generated_explanation:\n",
      "BRCA mutations increase risk of breast and ovarian cancers.\n",
      "\n",
      "evidence_texts:\n",
      "['Genetic factors can influence cancer risk.', 'Regular check-ups are important for early cancer detection.']\n",
      "\n",
      "Result:\n",
      "0.8902662098407745\n",
      "Expected score: Medium\n",
      "\n",
      "========================================\n",
      "\n",
      "Test case 3:\n",
      "generated_explanation:\n",
      "BRCA mutations increase risk of breast and ovarian cancers.\n",
      "\n",
      "evidence_texts:\n",
      "['Smoking is a major cause of lung cancer.', 'Exercise can help reduce the risk of some cancers.']\n",
      "\n",
      "Result:\n",
      "0.8996986448764801\n",
      "Expected score: Low\n",
      "\n",
      "========================================\n",
      "\n"
     ]
    }
   ],
   "source": [
    "# Test fact_verification_score\n",
    "run_tests('fact_verification_score', fact_verification_score)"
   ]
  },
  {
   "cell_type": "code",
   "execution_count": 14,
   "metadata": {},
   "outputs": [
    {
     "name": "stdout",
     "output_type": "stream",
     "text": [
      "Testing explanation_completeness_score\n",
      "----------------------------------------\n",
      "Test case 1:\n",
      "generated_explanation:\n",
      "MSI-H status in colorectal cancer predicts response to immunotherapy. It indicates defective DNA mismatch repair. This leads to increased neoantigen load and T-cell infiltration.\n",
      "\n",
      "golden_explanation:\n",
      "Microsatellite instability-high (MSI-H) status in colorectal cancer is predictive of response to immune checkpoint inhibitors. MSI-H tumors have defective DNA mismatch repair, resulting in increased mutational burden and neoantigen production. This promotes T-cell infiltration and susceptibility to immunotherapy.\n",
      "\n",
      "Result:\n",
      "0.7010677059491476\n",
      "Expected score: High\n",
      "\n",
      "========================================\n",
      "\n",
      "Test case 2:\n",
      "generated_explanation:\n",
      "MSI-H status in colorectal cancer relates to immunotherapy response. It affects how the immune system interacts with the tumor.\n",
      "\n",
      "golden_explanation:\n",
      "Microsatellite instability-high (MSI-H) status in colorectal cancer is predictive of response to immune checkpoint inhibitors. MSI-H tumors have defective DNA mismatch repair, resulting in increased mutational burden and neoantigen production. This promotes T-cell infiltration and susceptibility to immunotherapy.\n",
      "\n",
      "Result:\n",
      "0.6204222043355306\n",
      "Expected score: Medium\n",
      "\n",
      "========================================\n",
      "\n",
      "Test case 3:\n",
      "generated_explanation:\n",
      "MSI-H is a feature of some colorectal cancers.\n",
      "\n",
      "golden_explanation:\n",
      "Microsatellite instability-high (MSI-H) status in colorectal cancer is predictive of response to immune checkpoint inhibitors. MSI-H tumors have defective DNA mismatch repair, resulting in increased mutational burden and neoantigen production. This promotes T-cell infiltration and susceptibility to immunotherapy.\n",
      "\n",
      "Result:\n",
      "0.4821579356988271\n",
      "Expected score: Low\n",
      "\n",
      "========================================\n",
      "\n"
     ]
    }
   ],
   "source": [
    "# Test explanation_completeness_score\n",
    "run_tests('explanation_completeness_score', explanation_completeness_score)"
   ]
  },
  {
   "cell_type": "code",
   "execution_count": 15,
   "metadata": {},
   "outputs": [
    {
     "name": "stdout",
     "output_type": "stream",
     "text": [
      "Testing evidence_relevance_score\n",
      "----------------------------------------\n",
      "Test case 1:\n",
      "claim:\n",
      "PARP inhibitors are effective in BRCA-mutated ovarian cancers.\n",
      "\n",
      "selected_evidence:\n",
      "['PARP inhibitors exploit synthetic lethality in BRCA-deficient cells.', 'Clinical trials show improved progression-free survival with PARP inhibitors in BRCA-mutated ovarian cancer.']\n",
      "\n",
      "Result:\n",
      "0.8759736120700836\n",
      "Expected score: High\n",
      "\n",
      "========================================\n",
      "\n",
      "Test case 2:\n",
      "claim:\n",
      "PARP inhibitors are effective in BRCA-mutated ovarian cancers.\n",
      "\n",
      "selected_evidence:\n",
      "['Some targeted therapies show promise in ovarian cancer treatment.', 'Genetic testing is becoming more common in cancer diagnosis.']\n",
      "\n",
      "Result:\n",
      "0.48335570096969604\n",
      "Expected score: Medium\n",
      "\n",
      "========================================\n",
      "\n",
      "Test case 3:\n",
      "claim:\n",
      "PARP inhibitors are effective in BRCA-mutated ovarian cancers.\n",
      "\n",
      "selected_evidence:\n",
      "[\"Regular pelvic exams are important for women's health.\", 'Chemotherapy remains a standard treatment for many cancers.']\n",
      "\n",
      "Result:\n",
      "0.2987018823623657\n",
      "Expected score: Low\n",
      "\n",
      "========================================\n",
      "\n"
     ]
    }
   ],
   "source": [
    "# Test evidence_relevance_score\n",
    "run_tests('evidence_relevance_score', evidence_relevance_score)"
   ]
  },
  {
   "cell_type": "code",
   "execution_count": 16,
   "metadata": {},
   "outputs": [
    {
     "name": "stdout",
     "output_type": "stream",
     "text": [
      "Testing claim_evidence_alignment_score\n",
      "----------------------------------------\n",
      "Test case 1:\n",
      "claim:\n",
      "IDH mutations in glioma lead to 2-HG accumulation.\n",
      "\n",
      "selected_evidence:\n",
      "['IDH1/2 mutations result in neomorphic enzyme activity, producing 2-HG.', 'IDH mutantations in gliomas lead to accumulation of 2-HG levels.']\n",
      "\n",
      "Result:\n",
      "1.5359254479408264\n",
      "Expected score: High\n",
      "\n",
      "========================================\n",
      "\n",
      "Test case 2:\n",
      "claim:\n",
      "IDH mutations in glioma lead to 2-HG accumulation.\n",
      "\n",
      "selected_evidence:\n",
      "['IDH mutations can be found in specific types of tumors.', 'Genetic alterations sometimes affect metabolism.']\n",
      "\n",
      "Result:\n",
      "0.924556702375412\n",
      "Expected score: Medium\n",
      "\n",
      "========================================\n",
      "\n",
      "Test case 3:\n",
      "claim:\n",
      "IDH mutations in glioma lead to 2-HG accumulation.\n",
      "\n",
      "selected_evidence:\n",
      "['Gliomas are a type of brain cancer.', 'Mutations factors rarely contribute to cancer development.']\n",
      "\n",
      "Result:\n",
      "-0.9262970387935638\n",
      "Expected score: Low\n",
      "\n",
      "========================================\n",
      "\n"
     ]
    }
   ],
   "source": [
    "# Test claim_evidence_alignment_score\n",
    "run_tests('claim_evidence_alignment_score', claim_evidence_alignment_score)"
   ]
  }
 ],
 "metadata": {
  "kernelspec": {
   "display_name": "venv",
   "language": "python",
   "name": "python3"
  },
  "language_info": {
   "codemirror_mode": {
    "name": "ipython",
    "version": 3
   },
   "file_extension": ".py",
   "mimetype": "text/x-python",
   "name": "python",
   "nbconvert_exporter": "python",
   "pygments_lexer": "ipython3",
   "version": "3.10.13"
  }
 },
 "nbformat": 4,
 "nbformat_minor": 2
}
