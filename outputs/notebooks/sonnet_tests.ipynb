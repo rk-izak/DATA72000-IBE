{
 "cells": [
  {
   "cell_type": "markdown",
   "metadata": {},
   "source": [
    "# Imports and Setup"
   ]
  },
  {
   "cell_type": "code",
   "execution_count": null,
   "metadata": {},
   "outputs": [],
   "source": [
    "import sys\n",
    "\n",
    "sys.path.append('../../')\n",
    "\n",
    "from models.rag import SelfRAG\n",
    "from models.sda import SelfDiscovery\n",
    "from utils.utils import set_api_key\n",
    "from utils.auto_tester import AutomaticTester"
   ]
  },
  {
   "cell_type": "code",
   "execution_count": null,
   "metadata": {},
   "outputs": [],
   "source": [
    "set_api_key('../../utils/keys.json', 'OpenAI')\n",
    "set_api_key('../../utils/keys.json', 'Anthropic')"
   ]
  },
  {
   "cell_type": "code",
   "execution_count": null,
   "metadata": {},
   "outputs": [],
   "source": [
    "# RAG Agent to be used for all tests\n",
    "rag_agent = SelfRAG(\"gpt-4o-2024-08-06\", \"text-embedding-3-large\")\n",
    "rag_agent.load_documents(\"../../data/CIVIC/clean/evidence_kb.json\")"
   ]
  },
  {
   "cell_type": "code",
   "execution_count": null,
   "metadata": {},
   "outputs": [],
   "source": [
    "# Set the LLM Model and Number of Examples to be tested\n",
    "NUM_EXAMPLES = 30\n",
    "MODEL_NAME = \"claude-3-5-sonnet-20240620\""
   ]
  },
  {
   "cell_type": "markdown",
   "metadata": {},
   "source": [
    "# Model Tests"
   ]
  },
  {
   "cell_type": "markdown",
   "metadata": {},
   "source": [
    "### Baseline Agent"
   ]
  },
  {
   "cell_type": "code",
   "execution_count": null,
   "metadata": {},
   "outputs": [],
   "source": [
    "sda_agent = SelfDiscovery(\"anthropic\", MODEL_NAME, use_base=True, use_exp=False, use_coh=False, modules_path=\"../../models/reasoning_modules/\")"
   ]
  },
  {
   "cell_type": "code",
   "execution_count": null,
   "metadata": {},
   "outputs": [],
   "source": [
    "test_configs = [\n",
    "    {\n",
    "        \"input_filepath\": \"../../data/CIVIC/clean/context/baseline.json\",\n",
    "        \"output_filepath\": \"../Anthropic/claude3.5_sonnet/base/baseline.json\",\n",
    "        \"task_type\": \"explanation\",\n",
    "        \"use_rag\": False\n",
    "    },\n",
    "    {\n",
    "        \"input_filepath\": \"../../data/CIVIC/clean/context/missing_evidence.json\",\n",
    "        \"output_filepath\": \"../Anthropic/claude3.5_sonnet/base/missing_evidence.json\",\n",
    "        \"task_type\": \"explanation\",\n",
    "        \"use_rag\": True\n",
    "    },\n",
    "    {\n",
    "        \"input_filepath\": \"../../data/CIVIC/clean/context/wrong_evidence.json\",\n",
    "        \"output_filepath\": \"../Anthropic/claude3.5_sonnet/base/wrong_evidence.json\",\n",
    "        \"task_type\": \"explanation\",\n",
    "        \"use_rag\": False\n",
    "    },\n",
    "    {\n",
    "        \"input_filepath\": \"../../data/CIVIC/clean/context/mixed.json\",\n",
    "        \"output_filepath\": \"../Anthropic/claude3.5_sonnet/base/mixed.json\",\n",
    "        \"task_type\": \"explanation\",\n",
    "        \"use_rag\": True\n",
    "    },\n",
    "    {\n",
    "        \"input_filepath\": \"../../data/CIVIC/clean/context/selection_test.json\",\n",
    "        \"output_filepath\": \"../Anthropic/claude3.5_sonnet/base/selection_test.json\",\n",
    "        \"task_type\": \"selection\",\n",
    "        \"use_rag\": False\n",
    "    },\n",
    "    {\n",
    "        \"input_filepath\": \"../../data/CIVIC/clean/context/assignment_test.json\",\n",
    "        \"output_filepath\": \"../Anthropic/claude3.5_sonnet/base/assignment_test.json\",\n",
    "        \"task_type\": \"assignment\",\n",
    "        \"use_rag\": False\n",
    "    },\n",
    "    {\n",
    "        \"input_filepath\": \"../../data/R4C/clean/full_data_noid.json\",\n",
    "        \"output_filepath\": \"../Anthropic/claude3.5_sonnet/base/full_data_noid.json\",\n",
    "        \"task_type\": \"explanation\",\n",
    "        \"use_rag\": False\n",
    "    }\n",
    "]\n"
   ]
  },
  {
   "cell_type": "code",
   "execution_count": null,
   "metadata": {},
   "outputs": [],
   "source": [
    "# Run tests\n",
    "for config in test_configs:\n",
    "    tester = AutomaticTester(sda_agent, rag_agent, config[\"input_filepath\"], config[\"output_filepath\"], )\n",
    "    tester.run_test(task_type=config[\"task_type\"], use_rag=config[\"use_rag\"], num_examples=NUM_EXAMPLES)\n",
    "\n",
    "    print(f\"Test completed for {config['input_filepath']}\")\n",
    "\n",
    "print(\"All tests completed.\")"
   ]
  },
  {
   "cell_type": "markdown",
   "metadata": {},
   "source": [
    "### EXP Agent"
   ]
  },
  {
   "cell_type": "code",
   "execution_count": null,
   "metadata": {},
   "outputs": [],
   "source": [
    "sda_agent = SelfDiscovery(\"anthropic\", MODEL_NAME, use_base=False, use_exp=True, use_coh=False, modules_path=\"../../models/reasoning_modules/\")"
   ]
  },
  {
   "cell_type": "code",
   "execution_count": null,
   "metadata": {},
   "outputs": [],
   "source": [
    "test_configs = [\n",
    "    {\n",
    "        \"input_filepath\": \"../../data/CIVIC/clean/context/baseline.json\",\n",
    "        \"output_filepath\": \"../Anthropic/claude3.5_sonnet/exp/baseline.json\",\n",
    "        \"task_type\": \"explanation\",\n",
    "        \"use_rag\": False\n",
    "    },\n",
    "    {\n",
    "        \"input_filepath\": \"../../data/CIVIC/clean/context/missing_evidence.json\",\n",
    "        \"output_filepath\": \"../Anthropic/claude3.5_sonnet/exp/missing_evidence.json\",\n",
    "        \"task_type\": \"explanation\",\n",
    "        \"use_rag\": True\n",
    "    },\n",
    "    {\n",
    "        \"input_filepath\": \"../../data/CIVIC/clean/context/wrong_evidence.json\",\n",
    "        \"output_filepath\": \"../Anthropic/claude3.5_sonnet/exp/wrong_evidence.json\",\n",
    "        \"task_type\": \"explanation\",\n",
    "        \"use_rag\": False\n",
    "    },\n",
    "    {\n",
    "        \"input_filepath\": \"../../data/CIVIC/clean/context/mixed.json\",\n",
    "        \"output_filepath\": \"../Anthropic/claude3.5_sonnet/exp/mixed.json\",\n",
    "        \"task_type\": \"explanation\",\n",
    "        \"use_rag\": True\n",
    "    },\n",
    "    {\n",
    "        \"input_filepath\": \"../../data/CIVIC/clean/context/selection_test.json\",\n",
    "        \"output_filepath\": \"../Anthropic/claude3.5_sonnet/exp/selection_test.json\",\n",
    "        \"task_type\": \"selection\",\n",
    "        \"use_rag\": False\n",
    "    },\n",
    "    {\n",
    "        \"input_filepath\": \"../../data/CIVIC/clean/context/assignment_test.json\",\n",
    "        \"output_filepath\": \"../Anthropic/claude3.5_sonnet/exp/assignment_test.json\",\n",
    "        \"task_type\": \"assignment\",\n",
    "        \"use_rag\": False\n",
    "    },\n",
    "    {\n",
    "        \"input_filepath\": \"../../data/R4C/clean/full_data_noid.json\",\n",
    "        \"output_filepath\": \"../Anthropic/claude3.5_sonnet/exp/full_data_noid.json\",\n",
    "        \"task_type\": \"explanation\",\n",
    "        \"use_rag\": False\n",
    "    }\n",
    "]\n"
   ]
  },
  {
   "cell_type": "code",
   "execution_count": null,
   "metadata": {},
   "outputs": [],
   "source": [
    "# Run tests\n",
    "for config in test_configs:\n",
    "    tester = AutomaticTester(sda_agent, rag_agent, config[\"input_filepath\"], config[\"output_filepath\"], )\n",
    "    tester.run_test(task_type=config[\"task_type\"], use_rag=config[\"use_rag\"], num_examples=NUM_EXAMPLES)\n",
    "\n",
    "    print(f\"Test completed for {config['input_filepath']}\")\n",
    "\n",
    "print(\"All tests completed.\")"
   ]
  },
  {
   "cell_type": "markdown",
   "metadata": {},
   "source": [
    "### COH Agent"
   ]
  },
  {
   "cell_type": "code",
   "execution_count": null,
   "metadata": {},
   "outputs": [],
   "source": [
    "sda_agent = SelfDiscovery(\"anthropic\", MODEL_NAME, use_base=False, use_exp=False, use_coh=True, modules_path=\"../../models/reasoning_modules/\")"
   ]
  },
  {
   "cell_type": "code",
   "execution_count": null,
   "metadata": {},
   "outputs": [],
   "source": [
    "test_configs = [\n",
    "    {\n",
    "        \"input_filepath\": \"../../data/CIVIC/clean/context/baseline.json\",\n",
    "        \"output_filepath\": \"../Anthropic/claude3.5_sonnet/coh/baseline.json\",\n",
    "        \"task_type\": \"explanation\",\n",
    "        \"use_rag\": False\n",
    "    },\n",
    "    {\n",
    "        \"input_filepath\": \"../../data/CIVIC/clean/context/missing_evidence.json\",\n",
    "        \"output_filepath\": \"../Anthropic/claude3.5_sonnet/coh/missing_evidence.json\",\n",
    "        \"task_type\": \"explanation\",\n",
    "        \"use_rag\": True\n",
    "    },\n",
    "    {\n",
    "        \"input_filepath\": \"../../data/CIVIC/clean/context/wrong_evidence.json\",\n",
    "        \"output_filepath\": \"../Anthropic/claude3.5_sonnet/coh/wrong_evidence.json\",\n",
    "        \"task_type\": \"explanation\",\n",
    "        \"use_rag\": False\n",
    "    },\n",
    "    {\n",
    "        \"input_filepath\": \"../../data/CIVIC/clean/context/mixed.json\",\n",
    "        \"output_filepath\": \"../Anthropic/claude3.5_sonnet/coh/mixed.json\",\n",
    "        \"task_type\": \"explanation\",\n",
    "        \"use_rag\": True\n",
    "    },\n",
    "    {\n",
    "        \"input_filepath\": \"../../data/CIVIC/clean/context/selection_test.json\",\n",
    "        \"output_filepath\": \"../Anthropic/claude3.5_sonnet/coh/selection_test.json\",\n",
    "        \"task_type\": \"selection\",\n",
    "        \"use_rag\": False\n",
    "    },\n",
    "    {\n",
    "        \"input_filepath\": \"../../data/CIVIC/clean/context/assignment_test.json\",\n",
    "        \"output_filepath\": \"../Anthropic/claude3.5_sonnet/coh/assignment_test.json\",\n",
    "        \"task_type\": \"assignment\",\n",
    "        \"use_rag\": False\n",
    "    },\n",
    "    {\n",
    "        \"input_filepath\": \"../../data/R4C/clean/full_data_noid.json\",\n",
    "        \"output_filepath\": \"../Anthropic/claude3.5_sonnet/coh/full_data_noid.json\",\n",
    "        \"task_type\": \"explanation\",\n",
    "        \"use_rag\": False\n",
    "    }\n",
    "]\n"
   ]
  },
  {
   "cell_type": "code",
   "execution_count": null,
   "metadata": {},
   "outputs": [],
   "source": [
    "# Run tests\n",
    "for config in test_configs:\n",
    "    tester = AutomaticTester(sda_agent, rag_agent, config[\"input_filepath\"], config[\"output_filepath\"], )\n",
    "    tester.run_test(task_type=config[\"task_type\"], use_rag=config[\"use_rag\"], num_examples=NUM_EXAMPLES)\n",
    "\n",
    "    print(f\"Test completed for {config['input_filepath']}\")\n",
    "\n",
    "print(\"All tests completed.\")"
   ]
  },
  {
   "cell_type": "markdown",
   "metadata": {},
   "source": [
    "### Base + EXP Agent"
   ]
  },
  {
   "cell_type": "code",
   "execution_count": null,
   "metadata": {},
   "outputs": [],
   "source": [
    "sda_agent = SelfDiscovery(\"anthropic\", MODEL_NAME, use_base=True, use_exp=True, use_coh=False, modules_path=\"../../models/reasoning_modules/\")"
   ]
  },
  {
   "cell_type": "code",
   "execution_count": null,
   "metadata": {},
   "outputs": [],
   "source": [
    "test_configs = [\n",
    "    {\n",
    "        \"input_filepath\": \"../../data/CIVIC/clean/context/baseline.json\",\n",
    "        \"output_filepath\": \"../Anthropic/claude3.5_sonnet/base_exp/baseline.json\",\n",
    "        \"task_type\": \"explanation\",\n",
    "        \"use_rag\": False\n",
    "    },\n",
    "    {\n",
    "        \"input_filepath\": \"../../data/CIVIC/clean/context/missing_evidence.json\",\n",
    "        \"output_filepath\": \"../Anthropic/claude3.5_sonnet/base_exp/missing_evidence.json\",\n",
    "        \"task_type\": \"explanation\",\n",
    "        \"use_rag\": True\n",
    "    },\n",
    "    {\n",
    "        \"input_filepath\": \"../../data/CIVIC/clean/context/wrong_evidence.json\",\n",
    "        \"output_filepath\": \"../Anthropic/claude3.5_sonnet/base_exp/wrong_evidence.json\",\n",
    "        \"task_type\": \"explanation\",\n",
    "        \"use_rag\": False\n",
    "    },\n",
    "    {\n",
    "        \"input_filepath\": \"../../data/CIVIC/clean/context/mixed.json\",\n",
    "        \"output_filepath\": \"../Anthropic/claude3.5_sonnet/base_exp/mixed.json\",\n",
    "        \"task_type\": \"explanation\",\n",
    "        \"use_rag\": True\n",
    "    },\n",
    "    {\n",
    "        \"input_filepath\": \"../../data/CIVIC/clean/context/selection_test.json\",\n",
    "        \"output_filepath\": \"../Anthropic/claude3.5_sonnet/base_exp/selection_test.json\",\n",
    "        \"task_type\": \"selection\",\n",
    "        \"use_rag\": False\n",
    "    },\n",
    "    {\n",
    "        \"input_filepath\": \"../../data/CIVIC/clean/context/assignment_test.json\",\n",
    "        \"output_filepath\": \"../Anthropic/claude3.5_sonnet/base_exp/assignment_test.json\",\n",
    "        \"task_type\": \"assignment\",\n",
    "        \"use_rag\": False\n",
    "    },\n",
    "    {\n",
    "        \"input_filepath\": \"../../data/R4C/clean/full_data_noid.json\",\n",
    "        \"output_filepath\": \"../Anthropic/claude3.5_sonnet/base_exp/full_data_noid.json\",\n",
    "        \"task_type\": \"explanation\",\n",
    "        \"use_rag\": False\n",
    "    }\n",
    "]\n"
   ]
  },
  {
   "cell_type": "code",
   "execution_count": null,
   "metadata": {},
   "outputs": [],
   "source": [
    "# Run tests\n",
    "for config in test_configs:\n",
    "    tester = AutomaticTester(sda_agent, rag_agent, config[\"input_filepath\"], config[\"output_filepath\"], )\n",
    "    tester.run_test(task_type=config[\"task_type\"], use_rag=config[\"use_rag\"], num_examples=NUM_EXAMPLES)\n",
    "\n",
    "    print(f\"Test completed for {config['input_filepath']}\")\n",
    "\n",
    "print(\"All tests completed.\")"
   ]
  },
  {
   "cell_type": "markdown",
   "metadata": {},
   "source": [
    "### Base + EXP + COH Agent"
   ]
  },
  {
   "cell_type": "code",
   "execution_count": null,
   "metadata": {},
   "outputs": [],
   "source": [
    "sda_agent = SelfDiscovery(\"anthropic\", MODEL_NAME, use_base=True, use_exp=True, use_coh=True, modules_path=\"../../models/reasoning_modules/\")"
   ]
  },
  {
   "cell_type": "code",
   "execution_count": null,
   "metadata": {},
   "outputs": [],
   "source": [
    "test_configs = [\n",
    "    {\n",
    "        \"input_filepath\": \"../../data/CIVIC/clean/context/baseline.json\",\n",
    "        \"output_filepath\": \"../Anthropic/claude3.5_sonnet/base_exp_coh/baseline.json\",\n",
    "        \"task_type\": \"explanation\",\n",
    "        \"use_rag\": False\n",
    "    },\n",
    "    {\n",
    "        \"input_filepath\": \"../../data/CIVIC/clean/context/missing_evidence.json\",\n",
    "        \"output_filepath\": \"../Anthropic/claude3.5_sonnet/base_exp_coh/missing_evidence.json\",\n",
    "        \"task_type\": \"explanation\",\n",
    "        \"use_rag\": True\n",
    "    },\n",
    "    {\n",
    "        \"input_filepath\": \"../../data/CIVIC/clean/context/wrong_evidence.json\",\n",
    "        \"output_filepath\": \"../Anthropic/claude3.5_sonnet/base_exp_coh/wrong_evidence.json\",\n",
    "        \"task_type\": \"explanation\",\n",
    "        \"use_rag\": False\n",
    "    },\n",
    "    {\n",
    "        \"input_filepath\": \"../../data/CIVIC/clean/context/mixed.json\",\n",
    "        \"output_filepath\": \"../Anthropic/claude3.5_sonnet/base_exp_coh/mixed.json\",\n",
    "        \"task_type\": \"explanation\",\n",
    "        \"use_rag\": True\n",
    "    },\n",
    "    {\n",
    "        \"input_filepath\": \"../../data/CIVIC/clean/context/selection_test.json\",\n",
    "        \"output_filepath\": \"../Anthropic/claude3.5_sonnet/base_exp_coh/selection_test.json\",\n",
    "        \"task_type\": \"selection\",\n",
    "        \"use_rag\": False\n",
    "    },\n",
    "    {\n",
    "        \"input_filepath\": \"../../data/CIVIC/clean/context/assignment_test.json\",\n",
    "        \"output_filepath\": \"../Anthropic/claude3.5_sonnet/base_exp_coh/assignment_test.json\",\n",
    "        \"task_type\": \"assignment\",\n",
    "        \"use_rag\": False\n",
    "    },\n",
    "    {\n",
    "        \"input_filepath\": \"../../data/R4C/clean/full_data_noid.json\",\n",
    "        \"output_filepath\": \"../Anthropic/claude3.5_sonnet/base_exp_coh/full_data_noid.json\",\n",
    "        \"task_type\": \"explanation\",\n",
    "        \"use_rag\": False\n",
    "    }\n",
    "]\n"
   ]
  },
  {
   "cell_type": "code",
   "execution_count": null,
   "metadata": {},
   "outputs": [],
   "source": [
    "# Run tests\n",
    "for config in test_configs:\n",
    "    tester = AutomaticTester(sda_agent, rag_agent, config[\"input_filepath\"], config[\"output_filepath\"], )\n",
    "    tester.run_test(task_type=config[\"task_type\"], use_rag=config[\"use_rag\"], num_examples=NUM_EXAMPLES)\n",
    "\n",
    "    print(f\"Test completed for {config['input_filepath']}\")\n",
    "\n",
    "print(\"All tests completed.\")"
   ]
  }
 ],
 "metadata": {
  "kernelspec": {
   "display_name": "venv",
   "language": "python",
   "name": "python3"
  },
  "language_info": {
   "codemirror_mode": {
    "name": "ipython",
    "version": 3
   },
   "file_extension": ".py",
   "mimetype": "text/x-python",
   "name": "python",
   "nbconvert_exporter": "python",
   "pygments_lexer": "ipython3",
   "version": "3.10.13"
  }
 },
 "nbformat": 4,
 "nbformat_minor": 2
}
